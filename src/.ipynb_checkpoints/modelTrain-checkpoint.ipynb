{
 "cells": [
  {
   "cell_type": "code",
   "execution_count": 1,
   "metadata": {},
   "outputs": [],
   "source": [
    "import os\n",
    "import pandas as pd\n",
    "dataFolder=\"../RAVEN/Trial\"\n",
    "datafiles=[dataFolder+\"/\"+x for x in os.listdir(dataFolder)]\n",
    "myData=pd.DataFrame()\n",
    "#getting all info into one file\n",
    "#mapping wrong question to 0\n",
    "#mapping right question to 1\n",
    "for file in datafiles:\n",
    "    xlsxfile=pd.ExcelFile(file)\n",
    "    sheets = {sheet_name: xlsxfile.parse(sheet_name) for sheet_name in xlsxfile.sheet_names}\n",
    "    if file.split(\"_\")[-1].split(\".\")[0]==\"Right\":\n",
    "        answer=1\n",
    "    else:\n",
    "        answer=0\n",
    "    for sheet in sheets:\n",
    "        if not sheets[sheet].empty:\n",
    "            subjects=sheets[sheet][\"Unnamed: 22\"]\n",
    "            del sheets[sheet][\"Unnamed: 22\"]\n",
    "            subjects=subjects.str.startswith(\"DEI\")\n",
    "            subjects=subjects.astype(int)\n",
    "            sheets[sheet][\"Answer\"]=answer\n",
    "            sheets[sheet][\"Area\"]=subjects\n",
    "            myData=pd.concat([myData,sheets[sheet]], ignore_index=True)\n",
    "\n",
    "#centering and normalizing data\n",
    "for col in myData:\n",
    "    if col != \"Answer\" and col != \"Area\":\n",
    "        myData[col]=(myData[col]-myData[col].mean())/myData[col].std()\n",
    "myData=myData.dropna()"
   ]
  },
  {
   "cell_type": "code",
   "execution_count": 28,
   "metadata": {},
   "outputs": [],
   "source": [
    "#Dataset Division\n",
    "\n",
    "from sklearn.model_selection import train_test_split\n",
    "training_set, test_set = train_test_split(myData, test_size = 0.1, random_state = 1)\n",
    "\n",
    "X_train = training_set.iloc[:,0:-2].values\n",
    "Y_train = training_set.iloc[:,-1].values\n",
    "X_test = test_set.iloc[:,0:-2].values\n",
    "Y_test = test_set.iloc[:,-1].values"
   ]
  },
  {
   "cell_type": "code",
   "execution_count": 40,
   "metadata": {},
   "outputs": [
    {
     "data": {
      "text/plain": [
       "SVC(C=1.0, cache_size=200, class_weight=None, coef0=0.0,\n",
       "    decision_function_shape='ovr', degree=3, gamma='auto', kernel='rbf',\n",
       "    max_iter=-1, probability=False, random_state=1, shrinking=True, tol=0.001,\n",
       "    verbose=False)"
      ]
     },
     "execution_count": 40,
     "metadata": {},
     "output_type": "execute_result"
    }
   ],
   "source": [
    "#SVM\n",
    "from sklearn.svm import SVC\n",
    "classifier = SVC(kernel='poly', random_state = 1, gamma=\"auto\")\n",
    "classifier.fit(X_train,Y_train)"
   ]
  },
  {
   "cell_type": "code",
   "execution_count": 41,
   "metadata": {},
   "outputs": [
    {
     "name": "stdout",
     "output_type": "stream",
     "text": [
      "Accuracy Of SVM For The Given Dataset :  57.67195767195767\n",
      "Precison Of SVM For The Given Dataset :  58.50340136054422\n"
     ]
    }
   ],
   "source": [
    "Y_pred = classifier.predict(X_test)\n",
    "from sklearn.metrics import accuracy_score, precision_score\n",
    "print(\"Accuracy Of SVM For The Given Dataset : \", str(accuracy_score(Y_test, Y_pred)*100))\n",
    "print(\"Precison Of SVM For The Given Dataset : \", str(precision_score(Y_test, Y_pred)*100))"
   ]
  },
  {
   "cell_type": "code",
   "execution_count": 36,
   "metadata": {
    "scrolled": false
   },
   "outputs": [
    {
     "data": {
      "text/plain": [
       "MLPClassifier(activation='relu', alpha=0.0001, batch_size='auto', beta_1=0.9,\n",
       "              beta_2=0.999, early_stopping=False, epsilon=1e-08,\n",
       "              hidden_layer_sizes=(10, 5), learning_rate='constant',\n",
       "              learning_rate_init=0.001, max_iter=1000, momentum=0.9,\n",
       "              n_iter_no_change=10, nesterovs_momentum=True, power_t=0.5,\n",
       "              random_state=None, shuffle=True, solver='adam', tol=0.0001,\n",
       "              validation_fraction=0.1, verbose=False, warm_start=False)"
      ]
     },
     "execution_count": 36,
     "metadata": {},
     "output_type": "execute_result"
    }
   ],
   "source": [
    "#NN\n",
    "\n",
    "from sklearn.preprocessing import StandardScaler\n",
    "scaler = StandardScaler()\n",
    "scaler.fit(X_train)\n",
    "\n",
    "X_trainNN = scaler.transform(X_train)\n",
    "X_testNN = scaler.transform(X_test)\n",
    "\n",
    "from sklearn.neural_network import MLPClassifier\n",
    "mlp = MLPClassifier(hidden_layer_sizes=(10, 5),max_iter=1000)\n",
    "mlp.fit(X_trainNN,Y_train)"
   ]
  },
  {
   "cell_type": "code",
   "execution_count": 37,
   "metadata": {
    "scrolled": true
   },
   "outputs": [
    {
     "name": "stdout",
     "output_type": "stream",
     "text": [
      "Accuracy Of NN For The Given Dataset :  46.56084656084656\n",
      "Precision Of NN For The Given Dataset :  52.22222222222223\n"
     ]
    }
   ],
   "source": [
    "predictions = mlp.predict(X_test)\n",
    "print(\"Accuracy Of NN For The Given Dataset : \", str(accuracy_score(Y_test, predictions)*100))\n",
    "print(\"Precision Of NN For The Given Dataset : \", str(precision_score(Y_test, predictions)*100))"
   ]
  },
  {
   "cell_type": "code",
   "execution_count": 38,
   "metadata": {},
   "outputs": [
    {
     "name": "stdout",
     "output_type": "stream",
     "text": [
      "Accuracy for Decision Tree Classifier: 52.910052910052904%\n",
      "Precision for Decision Tree Classifier: 57.84313725490197%\n",
      "Accuracy for KNeighbors Classifier: 48.148148148148145%\n",
      "Precision for KNeighbors Classifier: 52.991452991452995%\n"
     ]
    }
   ],
   "source": [
    "from sklearn.tree import DecisionTreeClassifier\n",
    "from sklearn.neighbors import KNeighborsClassifier\n",
    "\n",
    "clrTree = DecisionTreeClassifier()\n",
    "clrTree = clrTree.fit(X_train, Y_train)\n",
    "outTree = clrTree.predict(X_test)\n",
    "\n",
    "clrKN = KNeighborsClassifier()\n",
    "clrKN = clrKN.fit(X_train, Y_train)\n",
    "outKN = clrKN.predict(X_test)\n",
    "\n",
    "# Prediction accuracy\n",
    "print(\"Accuracy for Decision Tree Classifier: \" + str(accuracy_score(Y_test, outTree)*100)+\"%\")\n",
    "print(\"Precision for Decision Tree Classifier: \" + str(precision_score(Y_test, outTree)*100)+\"%\")\n",
    "print(\"Accuracy for KNeighbors Classifier: \" + str(accuracy_score(Y_test, outKN)*100)+\"%\") \n",
    "print(\"Precision for KNeighbors Classifier: \" + str(precision_score(Y_test, outKN)*100)+\"%\")"
   ]
  },
  {
   "cell_type": "code",
   "execution_count": null,
   "metadata": {},
   "outputs": [],
   "source": []
  },
  {
   "cell_type": "code",
   "execution_count": null,
   "metadata": {},
   "outputs": [],
   "source": []
  }
 ],
 "metadata": {
  "kernelspec": {
   "display_name": "Python 3",
   "language": "python",
   "name": "python3"
  },
  "language_info": {
   "codemirror_mode": {
    "name": "ipython",
    "version": 3
   },
   "file_extension": ".py",
   "mimetype": "text/x-python",
   "name": "python",
   "nbconvert_exporter": "python",
   "pygments_lexer": "ipython3",
   "version": "3.6.8"
  }
 },
 "nbformat": 4,
 "nbformat_minor": 2
}

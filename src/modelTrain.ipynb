{
 "cells": [
  {
   "cell_type": "code",
   "execution_count": 227,
   "metadata": {},
   "outputs": [],
   "source": [
    "import os\n",
    "import pandas as pd\n",
    "\n",
    "dataFolder=\"../RAVEN/Trial\"\n",
    "datafiles=[dataFolder+\"/\"+x for x in os.listdir(dataFolder)]\n",
    "myData=pd.DataFrame()\n",
    "\n",
    "#getting all info into one file\n",
    "#mapping wrong question to 0\n",
    "#mapping right question to 1\n",
    "for file in datafiles:\n",
    "    xlsxfile=pd.ExcelFile(file)\n",
    "    sheets = {sheet_name: xlsxfile.parse(sheet_name) for sheet_name in xlsxfile.sheet_names}\n",
    "    if file.split(\"_\")[-1].split(\".\")[0]==\"Right\":\n",
    "        answer=1\n",
    "    else:\n",
    "        answer=0\n",
    "    for sheet in sheets:\n",
    "        if not sheets[sheet].empty:\n",
    "            subjects=sheets[sheet][\"Unnamed: 22\"]\n",
    "            del sheets[sheet][\"Unnamed: 22\"]\n",
    "            subjects=subjects.str.startswith(\"DEI\")\n",
    "            subjects=subjects.astype(int)\n",
    "            sheets[sheet][\"Answer\"]=answer\n",
    "            sheets[sheet][\"Area\"]=subjects\n",
    "            myData=pd.concat([myData,sheets[sheet]], ignore_index=True)\n",
    "\n",
    "#centering and normalizing data\n",
    "for col in myData:\n",
    "    if col != \"Answer\" and col != \"Area\":\n",
    "        myData[col]=(myData[col]-myData[col].mean())/myData[col].std()\n",
    "myData=myData.dropna()"
   ]
  },
  {
   "cell_type": "code",
   "execution_count": 228,
   "metadata": {},
   "outputs": [],
   "source": [
    "#Dataset Division\n",
    "\n",
    "from sklearn.model_selection import train_test_split\n",
    "\n",
    "training_set, test_set = train_test_split(myData, test_size = 0.2, random_state = 1)\n",
    "\n",
    "X_train = training_set.iloc[:,0:-2].values\n",
    "Y_train = training_set.iloc[:,-1].values\n",
    "X_test = test_set.iloc[:,0:-2].values\n",
    "Y_test = test_set.iloc[:,-1].values"
   ]
  },
  {
   "cell_type": "code",
   "execution_count": 234,
   "metadata": {},
   "outputs": [
    {
     "name": "stdout",
     "output_type": "stream",
     "text": [
      "Accuracy for Support Vector Machine Classifier: 54.37665782493368%\n",
      "F1-Score for Support Vector Machine Classifier: 57.84313725490197%\n"
     ]
    }
   ],
   "source": [
    "#SVM\n",
    "\n",
    "from sklearn.metrics import confusion_matrix\n",
    "from sklearn.metrics import accuracy_score\n",
    "from sklearn.metrics import f1_score\n",
    "\n",
    "from sklearn.svm import SVC\n",
    "\n",
    "clrSVM = SVC(kernel='sigmoid', random_state = 1, gamma=\"auto\")\n",
    "clrSVM.fit(X_train,Y_train)\n",
    "\n",
    "predSVM = clrSVM.predict(X_test)\n",
    "\n",
    "#cmSVM = confusion_matrix(Y_test,predictions)\n",
    "print(\"Accuracy for Support Vector Machine Classifier: \" + str(accuracy_score(Y_test, predSVM)*100)+\"%\")\n",
    "print(\"F1-Score for Support Vector Machine Classifier: \" + str(f1_score(Y_test, predSVM)*100)+\"%\")"
   ]
  },
  {
   "cell_type": "code",
   "execution_count": 230,
   "metadata": {},
   "outputs": [
    {
     "name": "stdout",
     "output_type": "stream",
     "text": [
      "Accuracy for Neural Network Classifier: 55.96816976127321%\n",
      "F1-Score for Neural Network Classifier: 66.66666666666666%\n"
     ]
    }
   ],
   "source": [
    "#NN\n",
    "\n",
    "from sklearn.preprocessing import StandardScaler\n",
    "from sklearn.neural_network import MLPClassifier\n",
    "\n",
    "scaler = StandardScaler()\n",
    "scaler.fit(X_train)\n",
    "\n",
    "X_trainNN = scaler.transform(X_train)\n",
    "X_testNN = scaler.transform(X_test)\n",
    "\n",
    "clrMLP = MLPClassifier(hidden_layer_sizes=(13,13,13),max_iter=800,activation=\"identity\",solver=\"lbfgs\")\n",
    "clrMLP.fit(X_trainNN,Y_train)\n",
    "\n",
    "predNN = clrMLP.predict(X_test)\n",
    "\n",
    "#cmNN = confusion_matrix(Y_test,predictions)\n",
    "print(\"Accuracy for Neural Network Classifier: \" + str(accuracy_score(Y_test, predNN)*100)+\"%\")\n",
    "print(\"F1-Score for Neural Network Classifier: \" + str(f1_score(Y_test, predNN)*100)+\"%\")"
   ]
  },
  {
   "cell_type": "code",
   "execution_count": 244,
   "metadata": {},
   "outputs": [
    {
     "name": "stdout",
     "output_type": "stream",
     "text": [
      "Accuracy for Decision Tree Classifier: 54.37665782493368%\n",
      "F1-Score for Decision Tree Classifier: 55.8974358974359%\n"
     ]
    }
   ],
   "source": [
    "from sklearn.tree import DecisionTreeClassifier\n",
    "\n",
    "clrDT = DecisionTreeClassifier(criterion=\"gini\")\n",
    "clrDT = clrDT.fit(X_train, Y_train)\n",
    "\n",
    "predDT = clrDT.predict(X_test)\n",
    "\n",
    "#cmDT = confusion_matrix(Y_test,predictions)\n",
    "print(\"Accuracy for Decision Tree Classifier: \" + str(accuracy_score(Y_test, predDT)*100)+\"%\")\n",
    "print(\"F1-Score for Decision Tree Classifier: \" + str(f1_score(Y_test, predDT)*100)+\"%\")"
   ]
  },
  {
   "cell_type": "code",
   "execution_count": 267,
   "metadata": {},
   "outputs": [
    {
     "name": "stdout",
     "output_type": "stream",
     "text": [
      "Accuracy for KNeighbors Classifier: 53.315649867374006%\n",
      "F1-Score for KNeighbors Classifier: 59.25925925925925%\n"
     ]
    }
   ],
   "source": [
    "from sklearn.neighbors import KNeighborsClassifier\n",
    "\n",
    "clrKN = KNeighborsClassifier(n_neighbors=3)\n",
    "clrKN = clrKN.fit(X_train, Y_train)\n",
    "\n",
    "predKN = clrKN.predict(X_test)\n",
    "\n",
    "#cmKN = confusion_matrix(Y_test,predictions)\n",
    "print(\"Accuracy for KNeighbors Classifier: \" + str(accuracy_score(Y_test, predKN)*100)+\"%\") \n",
    "print(\"F1-Score for KNeighbors Classifier: \" + str(f1_score(Y_test, predKN)*100)+\"%\") "
   ]
  },
  {
   "cell_type": "code",
   "execution_count": null,
   "metadata": {},
   "outputs": [],
   "source": []
  },
  {
   "cell_type": "code",
   "execution_count": null,
   "metadata": {},
   "outputs": [],
   "source": []
  },
  {
   "cell_type": "code",
   "execution_count": null,
   "metadata": {},
   "outputs": [],
   "source": []
  }
 ],
 "metadata": {
  "kernelspec": {
   "display_name": "Python 3",
   "language": "python",
   "name": "python3"
  },
  "language_info": {
   "codemirror_mode": {
    "name": "ipython",
    "version": 3
   },
   "file_extension": ".py",
   "mimetype": "text/x-python",
   "name": "python",
   "nbconvert_exporter": "python",
   "pygments_lexer": "ipython3",
   "version": "3.6.5"
  }
 },
 "nbformat": 4,
 "nbformat_minor": 2
}
